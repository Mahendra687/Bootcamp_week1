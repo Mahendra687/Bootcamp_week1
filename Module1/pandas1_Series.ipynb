{
 "cells": [
  {
   "cell_type": "markdown",
   "id": "34fa39db",
   "metadata": {},
   "source": [
    "**Learning Objectives**\n",
    "* What is Series?\n",
    "* Create a Series\n",
    "\n",
    "\n",
    "**Pandas Objects** \n",
    "Before we dive into series, let’s do a quick recap of pandas ‘objects’. At the core of the pandas library there are two fundamental data structures/objects:\n",
    "* Series\n",
    "* Data Frames\n",
    "\n",
    "# \n",
    "**What is Series?**\n",
    "* A one dimensional labeled array\n",
    "* Can hold data of any type\n",
    "* Are like a column in a table\n",
    "\n",
    "# \n",
    "**What can a Series have?**\n",
    "* A Series can have all the elements as numbers in it\n",
    "<img Align = \"right\" width = \"150\" height = \"150\" src = \"https://lh5.googleusercontent.com/wO7QsugVe6WveW19Lh-3MwJw-LAj3LOuUXb7--B0V8kn_7eftXtQ9efShIc11bFDSFmhQGZGFZhTb8ACBsSdI0On6baZy_39h4uuKB8ic75zSEgIwhTwSlZpb9Amd15dAABvsYyC4WY=s0\">"
   ]
  },
  {
   "cell_type": "markdown",
   "id": "4089a237",
   "metadata": {},
   "source": [
    "* A Series can have all the elements as strings in it\n",
    "<img Align = \"right\" width = \"150\" height = \"150\" src =\"https://lh6.googleusercontent.com/ZHePfrOzeMJZoda-jkSbq2JLV4cKm65wK5nqLF3ibK6pS2BLKeap1yjmjFLnI-24G7WbSm79yEr09FrrwI__d3fs-sqikB_fWHkIWBMm1bljR3zIngmq_-39PVqbEgXwVxDNKRNh6XA=s0\">"
   ]
  },
  {
   "cell_type": "markdown",
   "id": "e42cc7f6",
   "metadata": {},
   "source": [
    "* A Series can have its elements as both numbers and strings. \n",
    "* But the data type of the Series is always ‘object’ in this case\n",
    "<img Align = \"right\" width = \"150\" height = \"150\" src =\"https://lh5.googleusercontent.com/uIqEeI5kk1werkquq42aBS1pLFmmn09KZ6MbDpXxRH0F5USlVEY-xroPA1xyTluURGri9AUx_blS1oRrg5lXfPj65mSIRFWUjI6nBJTLh-_IqCtoCiPpUmLheMo0HqcwnQgmRSPvFAU=s0\">"
   ]
  },
  {
   "cell_type": "markdown",
   "id": "5f706a8d",
   "metadata": {},
   "source": [
    "* Series is like a list in Python which can take any type of value like integer, strings, float (or decimal value), etc\n",
    "* All the items in series are labeled with indexes\n",
    "* By default indexing starts from 0 in Series. \n",
    "<img Align = \"right\" width = \"150\" height = \"150\" src =\"https://lh6.googleusercontent.com/-cog8I5vTSgmz42KFjWa1pZa1v9ooH7W2aLf5-WLXAc3tWgMvR1XOOX4GlZBEn6elKfQv1n82H5HDUi8D9ALipu-BFRvfKqlQql5k_FB6HFN0Z2vP-h_oP8zPgIkYhdtPBwGdrUu9Ew=s0\">"
   ]
  },
  {
   "cell_type": "markdown",
   "id": "9e495acd",
   "metadata": {},
   "source": [
    "* Indexes that Python Understand: \n",
    "\n",
    "<img Align = \"left\" width = \"400\" height = \"400\" src =\"https://lh3.googleusercontent.com/jmxuTB9yjDwpmFoortAI6a9ssLbrzAZkC05j8lp5735QcW8nvfL_UsWPYDogKFq3tAOtfCEco00wIpmV5Ncsju0gqdztWp_zDDa6vtq2HvDENZZ5sxCIbT8dZsVshRiBW-q4asIXxIY=s0\">"
   ]
  },
  {
   "cell_type": "markdown",
   "id": "ec8ab66e",
   "metadata": {},
   "source": [
    "**Create a Series**"
   ]
  },
  {
   "cell_type": "code",
   "execution_count": 6,
   "id": "c4adb24e",
   "metadata": {},
   "outputs": [],
   "source": [
    "import pandas as pd"
   ]
  },
  {
   "cell_type": "code",
   "execution_count": 8,
   "id": "bda67e99",
   "metadata": {},
   "outputs": [
    {
     "data": {
      "text/plain": [
       "0     1\n",
       "1     2\n",
       "2     3\n",
       "3     4\n",
       "4     5\n",
       "5     6\n",
       "6     7\n",
       "7     8\n",
       "8     9\n",
       "9    10\n",
       "dtype: int64"
      ]
     },
     "execution_count": 8,
     "metadata": {},
     "output_type": "execute_result"
    }
   ],
   "source": [
    "# You can create your own Series using list\n",
    "series = [1,2,3,4,5,6,7,8,9,10]\n",
    "pd.Series(series)"
   ]
  },
  {
   "cell_type": "code",
   "execution_count": 9,
   "id": "98c251b8",
   "metadata": {},
   "outputs": [
    {
     "data": {
      "text/plain": [
       "list"
      ]
     },
     "execution_count": 9,
     "metadata": {},
     "output_type": "execute_result"
    }
   ],
   "source": [
    "type(series)"
   ]
  },
  {
   "cell_type": "code",
   "execution_count": 14,
   "id": "27b042f7",
   "metadata": {},
   "outputs": [
    {
     "data": {
      "text/plain": [
       "DNA           AGCT\n",
       "RNA           AGUC\n",
       "Amino acid     XYZ\n",
       "dtype: object"
      ]
     },
     "execution_count": 14,
     "metadata": {},
     "output_type": "execute_result"
    }
   ],
   "source": [
    "# You can create your own Series using a dictionary\n",
    "code_one = \"AGCT\"\n",
    "code_two = \"AGUC\"\n",
    "code_three = \"XYZ\"\n",
    "Molecules = {'DNA': code_one, \"RNA\": code_two, \"Amino acid\": code_three}\n",
    "pd.Series(Molecules)"
   ]
  }
 ],
 "metadata": {
  "kernelspec": {
   "display_name": "Python 3 (ipykernel)",
   "language": "python",
   "name": "python3"
  },
  "language_info": {
   "codemirror_mode": {
    "name": "ipython",
    "version": 3
   },
   "file_extension": ".py",
   "mimetype": "text/x-python",
   "name": "python",
   "nbconvert_exporter": "python",
   "pygments_lexer": "ipython3",
   "version": "3.9.7"
  }
 },
 "nbformat": 4,
 "nbformat_minor": 5
}
