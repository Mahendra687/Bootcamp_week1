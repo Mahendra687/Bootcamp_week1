{
 "cells": [
  {
   "cell_type": "markdown",
   "id": "10ac802c",
   "metadata": {},
   "source": [
    "**Learning Objectives**\n",
    "* What is DataFrame?\n",
    "* Create a DataFrame\n",
    "\n",
    "# \n",
    "**What is a DataFrame?**\n",
    "* Two dimensional table\n",
    "* Made up of a collection of **Series**\n",
    "* Structured with labeled axes (rows and columns)\n",
    "* A data frame looks like a table \n",
    "\n",
    "# \n",
    "**Create a DataFrame**"
   ]
  },
  {
   "cell_type": "code",
   "execution_count": 16,
   "id": "948df56e",
   "metadata": {
    "scrolled": true
   },
   "outputs": [
    {
     "data": {
      "text/html": [
       "<div>\n",
       "<style scoped>\n",
       "    .dataframe tbody tr th:only-of-type {\n",
       "        vertical-align: middle;\n",
       "    }\n",
       "\n",
       "    .dataframe tbody tr th {\n",
       "        vertical-align: top;\n",
       "    }\n",
       "\n",
       "    .dataframe thead th {\n",
       "        text-align: right;\n",
       "    }\n",
       "</style>\n",
       "<table border=\"1\" class=\"dataframe\">\n",
       "  <thead>\n",
       "    <tr style=\"text-align: right;\">\n",
       "      <th></th>\n",
       "      <th>Frequancy</th>\n",
       "      <th>Molecules</th>\n",
       "      <th>Code</th>\n",
       "    </tr>\n",
       "  </thead>\n",
       "  <tbody>\n",
       "    <tr>\n",
       "      <th>1</th>\n",
       "      <td>100</td>\n",
       "      <td>DNA</td>\n",
       "      <td>AGCT</td>\n",
       "    </tr>\n",
       "    <tr>\n",
       "      <th>2</th>\n",
       "      <td>50</td>\n",
       "      <td>RNA</td>\n",
       "      <td>AGUC</td>\n",
       "    </tr>\n",
       "    <tr>\n",
       "      <th>3</th>\n",
       "      <td>25</td>\n",
       "      <td>Amino acid</td>\n",
       "      <td>XYZ</td>\n",
       "    </tr>\n",
       "  </tbody>\n",
       "</table>\n",
       "</div>"
      ],
      "text/plain": [
       "   Frequancy   Molecules  Code\n",
       "1        100         DNA  AGCT\n",
       "2         50         RNA  AGUC\n",
       "3         25  Amino acid   XYZ"
      ]
     },
     "execution_count": 16,
     "metadata": {},
     "output_type": "execute_result"
    }
   ],
   "source": [
    "import pandas as pd\n",
    "code1 = \"AGCT\"\n",
    "code2 = \"AGUC\"\n",
    "code3 = \"XYZ\"\n",
    "#AGCT = 1\n",
    "#AUCG = 2\n",
    "#XYZ = 3\n",
    "data = [[100, \"DNA\", code1],\n",
    "       [50, \"RNA\", code2],\n",
    "       [25, \"Amino acid\", code3]]\n",
    "\n",
    "pd.DataFrame(data,columns = ['Frequancy', 'Molecules', 'Code'], index = [1,2,3])"
   ]
  },
  {
   "cell_type": "code",
   "execution_count": 15,
   "id": "b5aa0429",
   "metadata": {},
   "outputs": [
    {
     "data": {
      "text/html": [
       "<div>\n",
       "<style scoped>\n",
       "    .dataframe tbody tr th:only-of-type {\n",
       "        vertical-align: middle;\n",
       "    }\n",
       "\n",
       "    .dataframe tbody tr th {\n",
       "        vertical-align: top;\n",
       "    }\n",
       "\n",
       "    .dataframe thead th {\n",
       "        text-align: right;\n",
       "    }\n",
       "</style>\n",
       "<table border=\"1\" class=\"dataframe\">\n",
       "  <thead>\n",
       "    <tr style=\"text-align: right;\">\n",
       "      <th></th>\n",
       "      <th>Regd_No</th>\n",
       "      <th>Name</th>\n",
       "      <th>Marks%</th>\n",
       "    </tr>\n",
       "  </thead>\n",
       "  <tbody>\n",
       "    <tr>\n",
       "      <th>1</th>\n",
       "      <td>1000</td>\n",
       "      <td>steve</td>\n",
       "      <td>86</td>\n",
       "    </tr>\n",
       "    <tr>\n",
       "      <th>2</th>\n",
       "      <td>500</td>\n",
       "      <td>Mathew</td>\n",
       "      <td>91</td>\n",
       "    </tr>\n",
       "    <tr>\n",
       "      <th>3</th>\n",
       "      <td>250</td>\n",
       "      <td>Patty</td>\n",
       "      <td>69</td>\n",
       "    </tr>\n",
       "    <tr>\n",
       "      <th>4</th>\n",
       "      <td>150</td>\n",
       "      <td>Vin</td>\n",
       "      <td>88</td>\n",
       "    </tr>\n",
       "  </tbody>\n",
       "</table>\n",
       "</div>"
      ],
      "text/plain": [
       "   Regd_No    Name  Marks%\n",
       "1     1000   steve      86\n",
       "2      500  Mathew      91\n",
       "3      250   Patty      69\n",
       "4      150     Vin      88"
      ]
     },
     "execution_count": 15,
     "metadata": {},
     "output_type": "execute_result"
    }
   ],
   "source": [
    "# Try creating a dataframe using a NumPy array\n",
    "data = [[1000, \"steve\", 86],\n",
    "       [500, \"Mathew\", 91],\n",
    "       [250, \"Patty\", 69],\n",
    "        [150, \"Vin\", 88]]\n",
    "\n",
    "pd.DataFrame(data, columns = ['Regd_No', \"Name\", 'Marks%'], \n",
    "             index = [1,2,3,4])"
   ]
  },
  {
   "cell_type": "markdown",
   "id": "3a8af8b5",
   "metadata": {},
   "source": [
    "Don’t like python default index starting from ‘0’? Well, you can give your own column and row indexes"
   ]
  },
  {
   "cell_type": "code",
   "execution_count": 18,
   "id": "adbbc82d",
   "metadata": {},
   "outputs": [
    {
     "data": {
      "text/html": [
       "<div>\n",
       "<style scoped>\n",
       "    .dataframe tbody tr th:only-of-type {\n",
       "        vertical-align: middle;\n",
       "    }\n",
       "\n",
       "    .dataframe tbody tr th {\n",
       "        vertical-align: top;\n",
       "    }\n",
       "\n",
       "    .dataframe thead th {\n",
       "        text-align: right;\n",
       "    }\n",
       "</style>\n",
       "<table border=\"1\" class=\"dataframe\">\n",
       "  <thead>\n",
       "    <tr style=\"text-align: right;\">\n",
       "      <th></th>\n",
       "      <th>Reg_No</th>\n",
       "      <th>Name</th>\n",
       "      <th>Marsk</th>\n",
       "    </tr>\n",
       "  </thead>\n",
       "  <tbody>\n",
       "    <tr>\n",
       "      <th>1</th>\n",
       "      <td>1</td>\n",
       "      <td>Aman</td>\n",
       "      <td>80</td>\n",
       "    </tr>\n",
       "    <tr>\n",
       "      <th>2</th>\n",
       "      <td>2</td>\n",
       "      <td>Saurabh</td>\n",
       "      <td>90</td>\n",
       "    </tr>\n",
       "    <tr>\n",
       "      <th>3</th>\n",
       "      <td>3</td>\n",
       "      <td>Faiz</td>\n",
       "      <td>70</td>\n",
       "    </tr>\n",
       "    <tr>\n",
       "      <th>4</th>\n",
       "      <td>4</td>\n",
       "      <td>Ashruti</td>\n",
       "      <td>75</td>\n",
       "    </tr>\n",
       "    <tr>\n",
       "      <th>5</th>\n",
       "      <td>5</td>\n",
       "      <td>Adarsh</td>\n",
       "      <td>99</td>\n",
       "    </tr>\n",
       "  </tbody>\n",
       "</table>\n",
       "</div>"
      ],
      "text/plain": [
       "   Reg_No     Name  Marsk\n",
       "1       1     Aman     80\n",
       "2       2  Saurabh     90\n",
       "3       3     Faiz     70\n",
       "4       4  Ashruti     75\n",
       "5       5   Adarsh     99"
      ]
     },
     "execution_count": 18,
     "metadata": {},
     "output_type": "execute_result"
    }
   ],
   "source": [
    "# You can create a dataframe using dictionary\n",
    "data = { \"Reg_No\": [1,2,3,4,5],\n",
    "        \"Name\": [\"Aman\", 'Saurabh',\"Faiz\", \"Ashruti\",\"Adarsh\"],\n",
    "        \"Marsk\": [80, 90,70, 75, 99]}\n",
    "\n",
    "pd.DataFrame(data, index=[1,2,3,4,5])"
   ]
  },
  {
   "cell_type": "markdown",
   "id": "fc257c25",
   "metadata": {},
   "source": [
    "**A Column is a Series?**\n",
    "* A DataFrame is a collection of series.\n",
    "* A series is a column in a table or a dataframe.\n",
    "<img align = \"right\" Width = \"200\" height = \"200\" src = \"https://lh5.googleusercontent.com/qstfa6-YMiX5sLJ0pb5JQjZHTo95CPI71yVOkhUXlD12eN-vaMNr06KIrXMig0GGrdr3cWUSxytsApIpxBfFFdErOmmEbmsU8isuwouERMv2umdFDmQveaEXOzchb7g3-OTg--BiloU=s0\">"
   ]
  }
 ],
 "metadata": {
  "kernelspec": {
   "display_name": "Python 3 (ipykernel)",
   "language": "python",
   "name": "python3"
  },
  "language_info": {
   "codemirror_mode": {
    "name": "ipython",
    "version": 3
   },
   "file_extension": ".py",
   "mimetype": "text/x-python",
   "name": "python",
   "nbconvert_exporter": "python",
   "pygments_lexer": "ipython3",
   "version": "3.9.7"
  }
 },
 "nbformat": 4,
 "nbformat_minor": 5
}
