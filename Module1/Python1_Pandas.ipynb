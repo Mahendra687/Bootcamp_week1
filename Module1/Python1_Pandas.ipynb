{
 "cells": [
  {
   "attachments": {},
   "cell_type": "markdown",
   "id": "202df7fa",
   "metadata": {},
   "source": [
    "<img align = 'right' width=\"200\" height = \"200\" src = \"https://images.theconversation.com/files/430483/original/file-20211105-9897-18ahqx2.jpg?ixlib=rb-1.1.0&q=45&auto=format&w=1200&h=1200.0&fit=crop\">\n",
    "\n",
    "**Learning Objectives** \n",
    "* What is Pandas?\n",
    "* Why Pandas?\n",
    "* Why Pandas is so popular?\n",
    "* Import Pandas in Python\n",
    "\n",
    "# \n",
    "**What is Pandas?**\n",
    "* Officially stands for **Python Data Analysis Library**\n",
    "* It is an open - source Python library\n",
    "* It is a tool used by data scientists to:\n",
    "    * read,\n",
    "    * write,\n",
    "    * manipulate, and \n",
    "    * analyse the data.\n",
    "    \n",
    "# \n",
    "**Why Pandas?**\n",
    "* It helps you to explore and manipulate data in an efficient manner\n",
    "* It helps you to analyse large volumes of data with ease. When we say large volumes it is in millions of rows/records.\n",
    "\n",
    "# \n",
    "**Why Pandas is so Popular?**\n",
    "* Easy to read and learn\n",
    "* Extremely fast and powerful\n",
    "* Integrates well with other visualisation libraries\n",
    "\n",
    "# \n",
    "**Importing Pandas**\n",
    "* Anytime you want to use a library in Python, your first priority should be to make it accessible.\n",
    "* You can import/load Pandas in your notebook or any other Python IDE in two different ways.\n",
    "    * `import pandas`\n",
    "    * `from pandas import*` with a small starlike symbol (*) asterisk\n",
    "    * `import pandas as pd`\n",
    "\n",
    "Just as we use the **np** shorthand for NumPy, we will be using **pd** shorthand for Pandas. It simply serves as an **alias** and it is easier to use pd instead writing full form ‘pandas’ while coding.\n",
    "\n",
    "# \n",
    "Learn more about pandas [Getting started with pandas ](https://pandas.pydata.org/docs/getting_started/intro_tutorials/) here."
   ]
  }
 ],
 "metadata": {
  "kernelspec": {
   "display_name": "Python 3 (ipykernel)",
   "language": "python",
   "name": "python3"
  },
  "language_info": {
   "codemirror_mode": {
    "name": "ipython",
    "version": 3
   },
   "file_extension": ".py",
   "mimetype": "text/x-python",
   "name": "python",
   "nbconvert_exporter": "python",
   "pygments_lexer": "ipython3",
   "version": "3.9.7"
  }
 },
 "nbformat": 4,
 "nbformat_minor": 5
}
